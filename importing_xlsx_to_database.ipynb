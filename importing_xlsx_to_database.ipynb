{
  "nbformat": 4,
  "nbformat_minor": 0,
  "metadata": {
    "colab": {
      "provenance": [],
      "mount_file_id": "19m4c1muUISQMc6tmv_gA6x9UGa-Vct9h",
      "authorship_tag": "ABX9TyMuD3Dpbuhkn7QHHL8xHG8f",
      "include_colab_link": true
    },
    "kernelspec": {
      "name": "python3",
      "display_name": "Python 3"
    },
    "language_info": {
      "name": "python"
    }
  },
  "cells": [
    {
      "cell_type": "markdown",
      "metadata": {
        "id": "view-in-github",
        "colab_type": "text"
      },
      "source": [
        "<a href=\"https://colab.research.google.com/github/jjbstudent/BootCampActivities/blob/main/importing_xlsx_to_database.ipynb\" target=\"_parent\"><img src=\"https://colab.research.google.com/assets/colab-badge.svg\" alt=\"Open In Colab\"/></a>"
      ]
    },
    {
      "cell_type": "code",
      "execution_count": null,
      "metadata": {
        "id": "thZ9PnAKEHK9"
      },
      "outputs": [],
      "source": [
        "import pandas as pd\n",
        "import numpy as np"
      ]
    },
    {
      "cell_type": "code",
      "source": [
        "import pandas as pd\n",
        "\n",
        "# Assuming your XLSX file is named 'your_file.xlsx'\n",
        "df = pd.read_excel('vodafone_contracts.xlsx')"
      ],
      "metadata": {
        "id": "tCiDxXX3LTAK"
      },
      "execution_count": 14,
      "outputs": []
    },
    {
      "cell_type": "code",
      "source": [
        "import pandas as pd\n",
        "\n",
        "# Replace 'vodafone_contracts.xlsx' with the actual file name\n",
        "excel_file = pd.ExcelFile('vodafone_contracts.xlsx')\n",
        "\n",
        "# Get a list of sheet names\n",
        "sheet_names = excel_file.sheet_names\n",
        "\n",
        "# Print the sheet names\n",
        "print(sheet_names)"
      ],
      "metadata": {
        "colab": {
          "base_uri": "https://localhost:8080/"
        },
        "id": "XdWHYw5EL8ha",
        "outputId": "47f14a29-6a48-4f94-fd0d-8835a887def8"
      },
      "execution_count": 17,
      "outputs": [
        {
          "output_type": "stream",
          "name": "stdout",
          "text": [
            "['Full Staff List', 'Next Port (4)', 'Cancellations', 'Iris Export Mobiles', 'Iris Export', 'HR_Corrected']\n"
          ]
        }
      ]
    },
    {
      "cell_type": "code",
      "source": [
        "# Check if the file exists (optional)\n",
        "!ls 'vodafone_contracts.xlsx'  # This line will print \"vodafone_contracts.xlsx\" if the file exists"
      ],
      "metadata": {
        "colab": {
          "base_uri": "https://localhost:8080/"
        },
        "id": "4CF1OwcuPY8o",
        "outputId": "3f41ae7d-2233-457f-e4e0-0a7c3a231673"
      },
      "execution_count": 18,
      "outputs": [
        {
          "output_type": "stream",
          "name": "stdout",
          "text": [
            "vodafone_contracts.xlsx\n"
          ]
        }
      ]
    },
    {
      "cell_type": "code",
      "source": [
        "import pandas as pd\n",
        "import sqlite3\n",
        "\n",
        "# Load the Excel file into a Pandas DataFrame\n",
        "df = pd.read_excel('vodafone_contracts.xlsx')\n",
        "\n",
        "# Create a connection to a SQLite database\n",
        "conn = sqlite3.connect('vodafone_contracts.db')\n",
        "\n",
        "# Write the DataFrame to the database as a table\n",
        "df.to_sql('contracts', conn, index=False)\n",
        "\n",
        "# Close the connection\n",
        "conn.close()"
      ],
      "metadata": {
        "id": "y6NLnd0LQhrX"
      },
      "execution_count": null,
      "outputs": []
    },
    {
      "cell_type": "code",
      "source": [
        "import pandas as pd\n",
        "import sqlite3\n",
        "\n",
        "# Load the Excel file into a Pandas DataFrame\n",
        "df = pd.read_excel('vodafone_contracts.xlsx')\n",
        "\n",
        "# Create a connection to a SQLite database\n",
        "conn = sqlite3.connect('vodafone_contracts.db')\n",
        "\n",
        "# Write the DataFrame to the database as a table\n",
        "df.to_sql('contracts', conn, index=False)\n",
        "\n",
        "# Close the connection\n",
        "conn.close()"
      ],
      "metadata": {
        "id": "XNdgB34lQzKv"
      },
      "execution_count": 20,
      "outputs": []
    },
    {
      "cell_type": "markdown",
      "source": [
        "The `df.to_sql('contracts', conn, index=False)` statement in Python writes a Pandas DataFrame named `df` to a table named `contracts` within a SQLite database connected by `conn`. Let's break down each part:\n",
        "\n",
        "**1. `df.to_sql()`:**\n",
        "\n",
        "* This is a method of the Pandas DataFrame class.\n",
        "* It allows you to write the DataFrame's data into a database table.\n",
        "\n",
        "**2. `'contracts'`:**\n",
        "\n",
        "* This is the name of the table that will be created in the database.\n",
        "* You can choose any valid table name that adheres to your database's naming conventions.\n",
        "\n",
        "**3. `conn`:**\n",
        "\n",
        "* This is a database connection object.\n",
        "* It represents the connection to the SQLite database you've established using `sqlite3.connect()`.\n",
        "\n",
        "**4. `index=False`:**\n",
        "\n",
        "* This optional argument specifies whether to include the DataFrame's index as a column in the database table.\n",
        "* By setting it to `False`, you're instructing Pandas not to include the index. This is often desirable because the index might not have a meaningful interpretation in the database context.\n",
        "\n",
        "**In summary:**\n",
        "\n",
        "The statement `df.to_sql('contracts', conn, index=False)` effectively writes the data from the `df` DataFrame into a new table named `contracts` within the SQLite database connected by `conn`. The index is omitted from the table to avoid potential conflicts or unnecessary data.\n"
      ],
      "metadata": {
        "id": "LMXhJfIHRCBH"
      }
    }
  ]
}